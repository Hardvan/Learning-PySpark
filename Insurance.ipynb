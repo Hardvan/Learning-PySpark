{
 "cells": [
  {
   "cell_type": "markdown",
   "metadata": {},
   "source": [
    "# Insurance Risk Score prediction\n"
   ]
  },
  {
   "cell_type": "code",
   "execution_count": 15,
   "metadata": {},
   "outputs": [],
   "source": [
    "import pandas as pd\n",
    "from pyspark.ml import Pipeline\n",
    "from pyspark.sql import SparkSession\n",
    "from pyspark.ml.feature import StringIndexer, VectorAssembler\n",
    "from pyspark.ml.classification import RandomForestClassifier\n",
    "from pyspark.ml.evaluation import MulticlassClassificationEvaluator"
   ]
  },
  {
   "cell_type": "code",
   "execution_count": 16,
   "metadata": {},
   "outputs": [
    {
     "data": {
      "text/html": [
       "\n",
       "            <div>\n",
       "                <p><b>SparkSession - in-memory</b></p>\n",
       "                \n",
       "        <div>\n",
       "            <p><b>SparkContext</b></p>\n",
       "\n",
       "            <p><a href=\"http://HARDIK-LAPTOP.mshome.net:4040\">Spark UI</a></p>\n",
       "\n",
       "            <dl>\n",
       "              <dt>Version</dt>\n",
       "                <dd><code>v3.5.1</code></dd>\n",
       "              <dt>Master</dt>\n",
       "                <dd><code>local[*]</code></dd>\n",
       "              <dt>AppName</dt>\n",
       "                <dd><code>Insurance Prediction</code></dd>\n",
       "            </dl>\n",
       "        </div>\n",
       "        \n",
       "            </div>\n",
       "        "
      ],
      "text/plain": [
       "<pyspark.sql.session.SparkSession at 0x2972b0df340>"
      ]
     },
     "execution_count": 16,
     "metadata": {},
     "output_type": "execute_result"
    }
   ],
   "source": [
    "spark = SparkSession.builder.appName(\"Insurance Prediction\").getOrCreate()\n",
    "spark"
   ]
  },
  {
   "cell_type": "code",
   "execution_count": 17,
   "metadata": {},
   "outputs": [
    {
     "name": "stdout",
     "output_type": "stream",
     "text": [
      "+-------------------+------------------+--------+------+-------------+------------------+-------+----------+\n",
      "|Monthly Installment|Insurance Category|Diabetes|Smoker|User Category|               Job|College|Risk Score|\n",
      "+-------------------+------------------+--------+------+-------------+------------------+-------+----------+\n",
      "|                800|            Health|     Yes|    No|   Individual|          Engineer|    Yes|       Low|\n",
      "|                950|              Life|      No|   Yes|       Family|           Teacher|    Yes|      High|\n",
      "|               1200|              Auto|      No|    No|   Individual|            Doctor|    Yes|    Medium|\n",
      "|                700|            Health|     Yes|   Yes|       Family| Marketing Manager|    Yes|      High|\n",
      "|                850|              Life|      No|    No|       Family|        Accountant|    Yes|       Low|\n",
      "|               1100|              Auto|     Yes|    No|   Individual|Software Developer|     No|    Medium|\n",
      "|                750|            Health|      No|   Yes|       Family|             Nurse|    Yes|      High|\n",
      "|                900|              Life|      No|    No|   Individual|         Architect|    Yes|       Low|\n",
      "|               1000|              Auto|     Yes|   Yes|       Family|            Lawyer|    Yes|      High|\n",
      "|                800|            Health|      No|    No|   Individual|  Graphic Designer|     No|       Low|\n",
      "|                950|              Life|     Yes|   Yes|       Family|           Manager|    Yes|      High|\n",
      "|               1200|              Auto|      No|   Yes|   Individual|      Entrepreneur|    Yes|    Medium|\n",
      "|                700|            Health|     Yes|    No|       Family|        Pharmacist|    Yes|      High|\n",
      "|                850|              Life|     Yes|   Yes|   Individual|        Journalist|     No|      High|\n",
      "|               1100|              Auto|      No|    No|       Family|    Police Officer|    Yes|       Low|\n",
      "|                750|            Health|      No|   Yes|   Individual| Real Estate Agent|    Yes|      High|\n",
      "|                900|              Life|     Yes|   Yes|       Family|         Professor|    Yes|      High|\n",
      "|               1000|              Auto|      No|    No|   Individual|              Chef|     No|       Low|\n",
      "|                800|            Health|     Yes|    No|       Family|     IT Consultant|    Yes|    Medium|\n",
      "|                950|              Life|      No|   Yes|   Individual| Financial Analyst|    Yes|      High|\n",
      "+-------------------+------------------+--------+------+-------------+------------------+-------+----------+\n",
      "only showing top 20 rows\n",
      "\n"
     ]
    }
   ],
   "source": [
    "data = spark.read.csv(\"./data/insurance.csv\", header=True, inferSchema=True)\n",
    "data.show()"
   ]
  },
  {
   "cell_type": "code",
   "execution_count": 18,
   "metadata": {},
   "outputs": [
    {
     "data": {
      "text/html": [
       "<div>\n",
       "<style scoped>\n",
       "    .dataframe tbody tr th:only-of-type {\n",
       "        vertical-align: middle;\n",
       "    }\n",
       "\n",
       "    .dataframe tbody tr th {\n",
       "        vertical-align: top;\n",
       "    }\n",
       "\n",
       "    .dataframe thead th {\n",
       "        text-align: right;\n",
       "    }\n",
       "</style>\n",
       "<table border=\"1\" class=\"dataframe\">\n",
       "  <thead>\n",
       "    <tr style=\"text-align: right;\">\n",
       "      <th></th>\n",
       "      <th>Monthly Installment</th>\n",
       "      <th>Insurance Category</th>\n",
       "      <th>Diabetes</th>\n",
       "      <th>Smoker</th>\n",
       "      <th>User Category</th>\n",
       "      <th>Job</th>\n",
       "      <th>College</th>\n",
       "      <th>Risk Score</th>\n",
       "    </tr>\n",
       "  </thead>\n",
       "  <tbody>\n",
       "    <tr>\n",
       "      <th>0</th>\n",
       "      <td>800</td>\n",
       "      <td>Health</td>\n",
       "      <td>Yes</td>\n",
       "      <td>No</td>\n",
       "      <td>Individual</td>\n",
       "      <td>Engineer</td>\n",
       "      <td>Yes</td>\n",
       "      <td>Low</td>\n",
       "    </tr>\n",
       "    <tr>\n",
       "      <th>1</th>\n",
       "      <td>950</td>\n",
       "      <td>Life</td>\n",
       "      <td>No</td>\n",
       "      <td>Yes</td>\n",
       "      <td>Family</td>\n",
       "      <td>Teacher</td>\n",
       "      <td>Yes</td>\n",
       "      <td>High</td>\n",
       "    </tr>\n",
       "    <tr>\n",
       "      <th>2</th>\n",
       "      <td>1200</td>\n",
       "      <td>Auto</td>\n",
       "      <td>No</td>\n",
       "      <td>No</td>\n",
       "      <td>Individual</td>\n",
       "      <td>Doctor</td>\n",
       "      <td>Yes</td>\n",
       "      <td>Medium</td>\n",
       "    </tr>\n",
       "    <tr>\n",
       "      <th>3</th>\n",
       "      <td>700</td>\n",
       "      <td>Health</td>\n",
       "      <td>Yes</td>\n",
       "      <td>Yes</td>\n",
       "      <td>Family</td>\n",
       "      <td>Marketing Manager</td>\n",
       "      <td>Yes</td>\n",
       "      <td>High</td>\n",
       "    </tr>\n",
       "    <tr>\n",
       "      <th>4</th>\n",
       "      <td>850</td>\n",
       "      <td>Life</td>\n",
       "      <td>No</td>\n",
       "      <td>No</td>\n",
       "      <td>Family</td>\n",
       "      <td>Accountant</td>\n",
       "      <td>Yes</td>\n",
       "      <td>Low</td>\n",
       "    </tr>\n",
       "  </tbody>\n",
       "</table>\n",
       "</div>"
      ],
      "text/plain": [
       "   Monthly Installment Insurance Category Diabetes Smoker User Category  \\\n",
       "0                  800             Health      Yes     No    Individual   \n",
       "1                  950               Life       No    Yes        Family   \n",
       "2                 1200               Auto       No     No    Individual   \n",
       "3                  700             Health      Yes    Yes        Family   \n",
       "4                  850               Life       No     No        Family   \n",
       "\n",
       "                 Job College Risk Score  \n",
       "0           Engineer     Yes        Low  \n",
       "1            Teacher     Yes       High  \n",
       "2             Doctor     Yes     Medium  \n",
       "3  Marketing Manager     Yes       High  \n",
       "4         Accountant     Yes        Low  "
      ]
     },
     "execution_count": 18,
     "metadata": {},
     "output_type": "execute_result"
    }
   ],
   "source": [
    "# Exploratory Data Analysis (EDA) using pandas\n",
    "df = pd.read_csv(\"./data/insurance.csv\")\n",
    "df.head()"
   ]
  },
  {
   "cell_type": "code",
   "execution_count": 19,
   "metadata": {},
   "outputs": [
    {
     "name": "stdout",
     "output_type": "stream",
     "text": [
      "<class 'pandas.core.frame.DataFrame'>\n",
      "RangeIndex: 69 entries, 0 to 68\n",
      "Data columns (total 8 columns):\n",
      " #   Column               Non-Null Count  Dtype \n",
      "---  ------               --------------  ----- \n",
      " 0   Monthly Installment  69 non-null     int64 \n",
      " 1   Insurance Category   69 non-null     object\n",
      " 2   Diabetes             69 non-null     object\n",
      " 3   Smoker               69 non-null     object\n",
      " 4   User Category        69 non-null     object\n",
      " 5   Job                  69 non-null     object\n",
      " 6   College              69 non-null     object\n",
      " 7   Risk Score           69 non-null     object\n",
      "dtypes: int64(1), object(7)\n",
      "memory usage: 4.4+ KB\n"
     ]
    }
   ],
   "source": [
    "df.info()"
   ]
  },
  {
   "cell_type": "code",
   "execution_count": 20,
   "metadata": {},
   "outputs": [
    {
     "data": {
      "text/html": [
       "<div>\n",
       "<style scoped>\n",
       "    .dataframe tbody tr th:only-of-type {\n",
       "        vertical-align: middle;\n",
       "    }\n",
       "\n",
       "    .dataframe tbody tr th {\n",
       "        vertical-align: top;\n",
       "    }\n",
       "\n",
       "    .dataframe thead th {\n",
       "        text-align: right;\n",
       "    }\n",
       "</style>\n",
       "<table border=\"1\" class=\"dataframe\">\n",
       "  <thead>\n",
       "    <tr style=\"text-align: right;\">\n",
       "      <th></th>\n",
       "      <th>Monthly Installment</th>\n",
       "    </tr>\n",
       "  </thead>\n",
       "  <tbody>\n",
       "    <tr>\n",
       "      <th>count</th>\n",
       "      <td>69.000000</td>\n",
       "    </tr>\n",
       "    <tr>\n",
       "      <th>mean</th>\n",
       "      <td>929.710145</td>\n",
       "    </tr>\n",
       "    <tr>\n",
       "      <th>std</th>\n",
       "      <td>153.011159</td>\n",
       "    </tr>\n",
       "    <tr>\n",
       "      <th>min</th>\n",
       "      <td>680.000000</td>\n",
       "    </tr>\n",
       "    <tr>\n",
       "      <th>25%</th>\n",
       "      <td>800.000000</td>\n",
       "    </tr>\n",
       "    <tr>\n",
       "      <th>50%</th>\n",
       "      <td>920.000000</td>\n",
       "    </tr>\n",
       "    <tr>\n",
       "      <th>75%</th>\n",
       "      <td>1050.000000</td>\n",
       "    </tr>\n",
       "    <tr>\n",
       "      <th>max</th>\n",
       "      <td>1220.000000</td>\n",
       "    </tr>\n",
       "  </tbody>\n",
       "</table>\n",
       "</div>"
      ],
      "text/plain": [
       "       Monthly Installment\n",
       "count            69.000000\n",
       "mean            929.710145\n",
       "std             153.011159\n",
       "min             680.000000\n",
       "25%             800.000000\n",
       "50%             920.000000\n",
       "75%            1050.000000\n",
       "max            1220.000000"
      ]
     },
     "execution_count": 20,
     "metadata": {},
     "output_type": "execute_result"
    }
   ],
   "source": [
    "df.describe()"
   ]
  },
  {
   "cell_type": "code",
   "execution_count": 21,
   "metadata": {},
   "outputs": [
    {
     "data": {
      "text/plain": [
       "Monthly Installment    0\n",
       "Insurance Category     0\n",
       "Diabetes               0\n",
       "Smoker                 0\n",
       "User Category          0\n",
       "Job                    0\n",
       "College                0\n",
       "Risk Score             0\n",
       "dtype: int64"
      ]
     },
     "execution_count": 21,
     "metadata": {},
     "output_type": "execute_result"
    }
   ],
   "source": [
    "df.isnull().sum()"
   ]
  },
  {
   "cell_type": "code",
   "execution_count": 22,
   "metadata": {},
   "outputs": [
    {
     "name": "stdout",
     "output_type": "stream",
     "text": [
      "root\n",
      " |-- Monthly Installment: integer (nullable = true)\n",
      " |-- Insurance Category: string (nullable = true)\n",
      " |-- Diabetes: string (nullable = true)\n",
      " |-- Smoker: string (nullable = true)\n",
      " |-- User Category: string (nullable = true)\n",
      " |-- Job: string (nullable = true)\n",
      " |-- College: string (nullable = true)\n",
      " |-- Risk Score: string (nullable = true)\n",
      "\n"
     ]
    }
   ],
   "source": [
    "data.printSchema()"
   ]
  },
  {
   "cell_type": "code",
   "execution_count": 23,
   "metadata": {},
   "outputs": [],
   "source": [
    "# Perform StringIndexing for categorical variables\n",
    "indexers = [StringIndexer(inputCol=column, outputCol=column+\"_index\").fit(data)\n",
    "            for column in [\"Insurance Category\", \"Diabetes\", \"Smoker\", \"User Category\", \"Job\", \"College\", \"Risk Score\"]]\n",
    "pipeline = Pipeline(stages=indexers)\n",
    "data = pipeline.fit(data).transform(data)"
   ]
  },
  {
   "cell_type": "code",
   "execution_count": 24,
   "metadata": {},
   "outputs": [],
   "source": [
    "# Create feature vector\n",
    "assembler = VectorAssembler(inputCols=[\"Monthly Installment\", \"Insurance Category_index\", \"Diabetes_index\",\n",
    "                            \"Smoker_index\", \"User Category_index\", \"Job_index\", \"College_index\"], outputCol=\"features\")\n",
    "data = assembler.transform(data)"
   ]
  },
  {
   "cell_type": "code",
   "execution_count": 25,
   "metadata": {},
   "outputs": [
    {
     "name": "stdout",
     "output_type": "stream",
     "text": [
      "root\n",
      " |-- Monthly Installment: integer (nullable = true)\n",
      " |-- Insurance Category: string (nullable = true)\n",
      " |-- Diabetes: string (nullable = true)\n",
      " |-- Smoker: string (nullable = true)\n",
      " |-- User Category: string (nullable = true)\n",
      " |-- Job: string (nullable = true)\n",
      " |-- College: string (nullable = true)\n",
      " |-- Risk Score: string (nullable = true)\n",
      " |-- Insurance Category_index: double (nullable = false)\n",
      " |-- Diabetes_index: double (nullable = false)\n",
      " |-- Smoker_index: double (nullable = false)\n",
      " |-- User Category_index: double (nullable = false)\n",
      " |-- Job_index: double (nullable = false)\n",
      " |-- College_index: double (nullable = false)\n",
      " |-- Risk Score_index: double (nullable = false)\n",
      " |-- features: vector (nullable = true)\n",
      "\n"
     ]
    }
   ],
   "source": [
    "# Display the updated schema to identify the correct label column\n",
    "data.printSchema()"
   ]
  },
  {
   "cell_type": "code",
   "execution_count": 26,
   "metadata": {},
   "outputs": [
    {
     "name": "stdout",
     "output_type": "stream",
     "text": [
      "Training Dataset Count: 40\n",
      "Test Dataset Count: 29\n"
     ]
    }
   ],
   "source": [
    "# Split data into train and test sets\n",
    "(train_data, test_data) = data.randomSplit([0.7, 0.3], seed=42)\n",
    "print(f\"Training Dataset Count: {train_data.count()}\")\n",
    "print(f\"Test Dataset Count: {test_data.count()}\")"
   ]
  },
  {
   "cell_type": "code",
   "execution_count": 27,
   "metadata": {},
   "outputs": [
    {
     "data": {
      "text/plain": [
       "['Monthly Installment',\n",
       " 'Insurance Category',\n",
       " 'Diabetes',\n",
       " 'Smoker',\n",
       " 'User Category',\n",
       " 'Job',\n",
       " 'College',\n",
       " 'Risk Score',\n",
       " 'Insurance Category_index',\n",
       " 'Diabetes_index',\n",
       " 'Smoker_index',\n",
       " 'User Category_index',\n",
       " 'Job_index',\n",
       " 'College_index',\n",
       " 'Risk Score_index',\n",
       " 'features']"
      ]
     },
     "execution_count": 27,
     "metadata": {},
     "output_type": "execute_result"
    }
   ],
   "source": [
    "data.columns"
   ]
  },
  {
   "cell_type": "code",
   "execution_count": 28,
   "metadata": {},
   "outputs": [],
   "source": [
    "# Train Random Forest Classifier\n",
    "rf = RandomForestClassifier(\n",
    "    labelCol=\"Risk Score_index\", featuresCol=\"features\", numTrees=10)\n",
    "model = rf.fit(train_data)"
   ]
  },
  {
   "cell_type": "code",
   "execution_count": 29,
   "metadata": {},
   "outputs": [],
   "source": [
    "# Make predictions on test data\n",
    "predictions = model.transform(test_data)"
   ]
  },
  {
   "cell_type": "code",
   "execution_count": 31,
   "metadata": {},
   "outputs": [
    {
     "name": "stdout",
     "output_type": "stream",
     "text": [
      "\n",
      "Model accuracy: 0.9655172413793104\n"
     ]
    }
   ],
   "source": [
    "# Evaluate model\n",
    "evaluator = MulticlassClassificationEvaluator(\n",
    "    labelCol=\"Risk Score_index\", predictionCol=\"prediction\", metricName=\"accuracy\")\n",
    "accuracy = evaluator.evaluate(predictions)\n",
    "print(f\"\\nModel accuracy: {accuracy}\")"
   ]
  },
  {
   "cell_type": "code",
   "execution_count": null,
   "metadata": {},
   "outputs": [],
   "source": []
  }
 ],
 "metadata": {
  "kernelspec": {
   "display_name": ".venv",
   "language": "python",
   "name": "python3"
  },
  "language_info": {
   "codemirror_mode": {
    "name": "ipython",
    "version": 3
   },
   "file_extension": ".py",
   "mimetype": "text/x-python",
   "name": "python",
   "nbconvert_exporter": "python",
   "pygments_lexer": "ipython3",
   "version": "3.10.4"
  }
 },
 "nbformat": 4,
 "nbformat_minor": 2
}
